{
 "cells": [
  {
   "cell_type": "code",
   "execution_count": 1,
   "metadata": {},
   "outputs": [
    {
     "name": "stdout",
     "output_type": "stream",
     "text": [
      "Defaulting to user installation because normal site-packages is not writeable\n",
      "Collecting google_trans_new\n",
      "  Downloading google_trans_new-1.1.9-py3-none-any.whl.metadata (5.2 kB)\n",
      "Downloading google_trans_new-1.1.9-py3-none-any.whl (9.2 kB)\n",
      "Installing collected packages: google_trans_new\n",
      "Successfully installed google_trans_new-1.1.9\n"
     ]
    }
   ],
   "source": [
    "!pip install google_trans_new"
   ]
  },
  {
   "cell_type": "code",
   "execution_count": 2,
   "metadata": {},
   "outputs": [
    {
     "name": "stdout",
     "output_type": "stream",
     "text": [
      "Defaulting to user installation because normal site-packages is not writeable\n",
      "Collecting pybind11\n",
      "  Downloading pybind11-2.12.0-py3-none-any.whl.metadata (9.5 kB)\n",
      "Downloading pybind11-2.12.0-py3-none-any.whl (234 kB)\n",
      "   ---------------------------------------- 0.0/235.0 kB ? eta -:--:--\n",
      "   --------------- ------------------------ 92.2/235.0 kB 1.7 MB/s eta 0:00:01\n",
      "   -------------------------------------- - 225.3/235.0 kB 2.3 MB/s eta 0:00:01\n",
      "   ---------------------------------------- 235.0/235.0 kB 1.8 MB/s eta 0:00:00\n",
      "Installing collected packages: pybind11\n",
      "Successfully installed pybind11-2.12.0\n"
     ]
    }
   ],
   "source": [
    "!pip install pybind11"
   ]
  },
  {
   "cell_type": "code",
   "execution_count": 3,
   "metadata": {},
   "outputs": [
    {
     "name": "stdout",
     "output_type": "stream",
     "text": [
      "Defaulting to user installation because normal site-packages is not writeable\n",
      "Collecting easynmt\n",
      "  Using cached EasyNMT-2.0.2.tar.gz (23 kB)\n",
      "  Installing build dependencies: started\n",
      "  Installing build dependencies: finished with status 'done'\n",
      "  Getting requirements to build wheel: started\n",
      "  Getting requirements to build wheel: finished with status 'done'\n",
      "  Installing backend dependencies: started\n",
      "  Installing backend dependencies: finished with status 'done'\n",
      "  Preparing metadata (pyproject.toml): started\n",
      "  Preparing metadata (pyproject.toml): finished with status 'done'\n",
      "Requirement already satisfied: tqdm in c:\\users\\karina\\appdata\\local\\packages\\pythonsoftwarefoundation.python.3.12_qbz5n2kfra8p0\\localcache\\local-packages\\python312\\site-packages (from easynmt) (4.66.2)\n",
      "Collecting transformers<5,>=4.4 (from easynmt)\n",
      "  Using cached transformers-4.41.1-py3-none-any.whl.metadata (43 kB)\n",
      "Collecting torch>=1.6.0 (from easynmt)\n",
      "  Using cached torch-2.3.0-cp312-cp312-win_amd64.whl.metadata (26 kB)\n",
      "Requirement already satisfied: numpy in c:\\users\\karina\\appdata\\local\\packages\\pythonsoftwarefoundation.python.3.12_qbz5n2kfra8p0\\localcache\\local-packages\\python312\\site-packages (from easynmt) (1.26.4)\n",
      "Requirement already satisfied: nltk in c:\\users\\karina\\appdata\\local\\packages\\pythonsoftwarefoundation.python.3.12_qbz5n2kfra8p0\\localcache\\local-packages\\python312\\site-packages (from easynmt) (3.8.1)\n",
      "Collecting sentencepiece (from easynmt)\n",
      "  Using cached sentencepiece-0.2.0-cp312-cp312-win_amd64.whl.metadata (8.3 kB)\n",
      "Collecting fasttext (from easynmt)\n",
      "  Using cached fasttext-0.9.2.tar.gz (68 kB)\n",
      "  Installing build dependencies: started\n",
      "  Installing build dependencies: finished with status 'done'\n",
      "  Getting requirements to build wheel: started\n",
      "  Getting requirements to build wheel: finished with status 'error'\n"
     ]
    },
    {
     "name": "stderr",
     "output_type": "stream",
     "text": [
      "  error: subprocess-exited-with-error\n",
      "  \n",
      "  × Getting requirements to build wheel did not run successfully.\n",
      "  │ exit code: 1\n",
      "  ╰─> [28 lines of output]\n",
      "      C:\\Users\\KARINA\\AppData\\Local\\Microsoft\\WindowsApps\\PythonSoftwareFoundation.Python.3.12_qbz5n2kfra8p0\\python.exe: No module named pip\n",
      "      Traceback (most recent call last):\n",
      "        File \"<string>\", line 38, in __init__\n",
      "      ModuleNotFoundError: No module named 'pybind11'\n",
      "      \n",
      "      During handling of the above exception, another exception occurred:\n",
      "      \n",
      "      Traceback (most recent call last):\n",
      "        File \"C:\\Program Files\\WindowsApps\\PythonSoftwareFoundation.Python.3.12_3.12.1008.0_x64__qbz5n2kfra8p0\\Lib\\site-packages\\pip\\_vendor\\pyproject_hooks\\_in_process\\_in_process.py\", line 353, in <module>\n",
      "          main()\n",
      "        File \"C:\\Program Files\\WindowsApps\\PythonSoftwareFoundation.Python.3.12_3.12.1008.0_x64__qbz5n2kfra8p0\\Lib\\site-packages\\pip\\_vendor\\pyproject_hooks\\_in_process\\_in_process.py\", line 335, in main\n",
      "          json_out['return_val'] = hook(**hook_input['kwargs'])\n",
      "                                   ^^^^^^^^^^^^^^^^^^^^^^^^^^^^\n",
      "        File \"C:\\Program Files\\WindowsApps\\PythonSoftwareFoundation.Python.3.12_3.12.1008.0_x64__qbz5n2kfra8p0\\Lib\\site-packages\\pip\\_vendor\\pyproject_hooks\\_in_process\\_in_process.py\", line 118, in get_requires_for_build_wheel\n",
      "          return hook(config_settings)\n",
      "                 ^^^^^^^^^^^^^^^^^^^^^\n",
      "        File \"C:\\Users\\KARINA\\AppData\\Local\\Temp\\pip-build-env-g7ql5zpt\\overlay\\Lib\\site-packages\\setuptools\\build_meta.py\", line 325, in get_requires_for_build_wheel\n",
      "          return self._get_build_requires(config_settings, requirements=['wheel'])\n",
      "                 ^^^^^^^^^^^^^^^^^^^^^^^^^^^^^^^^^^^^^^^^^^^^^^^^^^^^^^^^^^^^^^^^^\n",
      "        File \"C:\\Users\\KARINA\\AppData\\Local\\Temp\\pip-build-env-g7ql5zpt\\overlay\\Lib\\site-packages\\setuptools\\build_meta.py\", line 295, in _get_build_requires\n",
      "          self.run_setup()\n",
      "        File \"C:\\Users\\KARINA\\AppData\\Local\\Temp\\pip-build-env-g7ql5zpt\\overlay\\Lib\\site-packages\\setuptools\\build_meta.py\", line 487, in run_setup\n",
      "          super().run_setup(setup_script=setup_script)\n",
      "        File \"C:\\Users\\KARINA\\AppData\\Local\\Temp\\pip-build-env-g7ql5zpt\\overlay\\Lib\\site-packages\\setuptools\\build_meta.py\", line 311, in run_setup\n",
      "          exec(code, locals())\n",
      "        File \"<string>\", line 72, in <module>\n",
      "        File \"<string>\", line 41, in __init__\n",
      "      RuntimeError: pybind11 install failed.\n",
      "      [end of output]\n",
      "  \n",
      "  note: This error originates from a subprocess, and is likely not a problem with pip.\n",
      "error: subprocess-exited-with-error\n",
      "\n",
      "× Getting requirements to build wheel did not run successfully.\n",
      "│ exit code: 1\n",
      "╰─> See above for output.\n",
      "\n",
      "note: This error originates from a subprocess, and is likely not a problem with pip.\n"
     ]
    }
   ],
   "source": [
    "!pip install easynmt"
   ]
  },
  {
   "cell_type": "code",
   "execution_count": 5,
   "metadata": {},
   "outputs": [
    {
     "name": "stderr",
     "output_type": "stream",
     "text": [
      "100%|██████████| 14132/14132 [1:00:28<00:00,  3.89it/s]\n"
     ]
    },
    {
     "name": "stdout",
     "output_type": "stream",
     "text": [
      "                                                    text  rating       source  \\\n",
      "0      Tolong diperbaiki untuk order online Via aplik...       2    App Store   \n",
      "1      perasaan pswrd udah bener, pas log in coba aku...       1    App Store   \n",
      "2      Halo admin \\nKenapa aplikasinya sejak 2 minggu...       2    App Store   \n",
      "3                                         very very bad🦶       1    App Store   \n",
      "4                                Kode refal : IMA-5B5A39       5    App Store   \n",
      "...                                                  ...     ...          ...   \n",
      "14127                                               good       5  Google Play   \n",
      "14128                                               good       5  Google Play   \n",
      "14129                                               cool       5  Google Play   \n",
      "14130                             i am happy to have it!       5  Google Play   \n",
      "14131  My card cant be used, always failed when the b...       5  Google Play   \n",
      "\n",
      "                                                cleaning  \\\n",
      "0      tolong diperbaiki untuk order online via aplik...   \n",
      "1      perasaan password sudah bener pas log in coba ...   \n",
      "2      halo admin kenapa aplikasinya sejak  minggu ya...   \n",
      "3                                          very very bad   \n",
      "4                                  kode refal  ima5b5a39   \n",
      "...                                                  ...   \n",
      "14127                                               good   \n",
      "14128                                               good   \n",
      "14129                                               cool   \n",
      "14130                              i am happy to have it   \n",
      "14131  my card can not be used always failed when the...   \n",
      "\n",
      "                                            stopwords_id  \\\n",
      "0      tolong diperbaiki order online via aplikasi st...   \n",
      "1      perasaan password bener pas log in coba klik l...   \n",
      "2      halo admin aplikasinya minggu diakses keterant...   \n",
      "3                                          very very bad   \n",
      "4                                   kode refal ima5b5a39   \n",
      "...                                                  ...   \n",
      "14127                                               good   \n",
      "14128                                               good   \n",
      "14129                                               cool   \n",
      "14130                              i am happy to have it   \n",
      "14131  my card can not be used always failed when the...   \n",
      "\n",
      "                                            stopwords_en  \\\n",
      "0      tolong diperbaiki order online via aplikasi st...   \n",
      "1      perasaan password bener pas log coba klik lupa...   \n",
      "2      halo admin aplikasinya minggu diakses keterant...   \n",
      "3                                                    bad   \n",
      "4                                   kode refal ima5b5a39   \n",
      "...                                                  ...   \n",
      "14127                                               good   \n",
      "14128                                               good   \n",
      "14129                                               cool   \n",
      "14130                                              happy   \n",
      "14131  card used always failed barista swipe ive trie...   \n",
      "\n",
      "                                            tokenization  \\\n",
      "0      ['tolong', 'diperbaiki', 'order', 'online', 'v...   \n",
      "1      ['perasaan', 'password', 'bener', 'pas', 'log'...   \n",
      "2      ['halo', 'admin', 'aplikasinya', 'minggu', 'di...   \n",
      "3                                                ['bad']   \n",
      "4                         ['kode', 'refal', 'ima5b5a39']   \n",
      "...                                                  ...   \n",
      "14127                                           ['good']   \n",
      "14128                                           ['good']   \n",
      "14129                                           ['cool']   \n",
      "14130                                          ['happy']   \n",
      "14131  ['card', 'used', 'always', 'failed', 'barista'...   \n",
      "\n",
      "                                                stemming  \\\n",
      "0      tolong baik order online via aplikasi starbuck...   \n",
      "1      asa password bener pas log coba klik lupa sand...   \n",
      "2      halo admin aplikasi minggu akses keterantidakn...   \n",
      "3                                                    bad   \n",
      "4                                   kode refal ima5b5a39   \n",
      "...                                                  ...   \n",
      "14127                                               good   \n",
      "14128                                               good   \n",
      "14129                                               cool   \n",
      "14130                                              happy   \n",
      "14131  card used always failed barista swipe ive trie...   \n",
      "\n",
      "                                              translated  \n",
      "0      404 (Not Found) from TTS API. Probable cause: ...  \n",
      "1      404 (Not Found) from TTS API. Probable cause: ...  \n",
      "2      404 (Not Found) from TTS API. Probable cause: ...  \n",
      "3      404 (Not Found) from TTS API. Probable cause: ...  \n",
      "4      404 (Not Found) from TTS API. Probable cause: ...  \n",
      "...                                                  ...  \n",
      "14127  404 (Not Found) from TTS API. Probable cause: ...  \n",
      "14128  404 (Not Found) from TTS API. Probable cause: ...  \n",
      "14129  404 (Not Found) from TTS API. Probable cause: ...  \n",
      "14130  404 (Not Found) from TTS API. Probable cause: ...  \n",
      "14131  404 (Not Found) from TTS API. Probable cause: ...  \n",
      "\n",
      "[14132 rows x 9 columns]\n"
     ]
    }
   ],
   "source": [
    "import pandas as pd\n",
    "from google_trans_new import google_translator\n",
    "from tqdm import tqdm\n",
    "\n",
    "# Load your dataset\n",
    "df = pd.read_csv(r'C:\\Users\\KARINA\\OneDrive\\Desktop\\Skripsi Alam VS Code\\PreprocessUjiCoba.csv')\n",
    "\n",
    "# Initialize the translator\n",
    "translator = google_translator()\n",
    "\n",
    "# Function to translate text\n",
    "def translate_text(text):\n",
    "    try:\n",
    "        translated = translator.translate(text, lang_tgt='id')  # lang_tgt='id' for Indonesian\n",
    "        return translated\n",
    "    except Exception as e:\n",
    "        return str(e)\n",
    "\n",
    "# Apply the translation function to the 'stemming' column with a progress bar\n",
    "tqdm.pandas()\n",
    "df['translated'] = df['text'].progress_apply(translate_text)\n",
    "\n",
    "# Display the dataframe with the translated text\n",
    "print(df)\n"
   ]
  },
  {
   "cell_type": "code",
   "execution_count": 4,
   "metadata": {},
   "outputs": [
    {
     "name": "stderr",
     "output_type": "stream",
     "text": [
      "ERROR: pip's dependency resolver does not currently take into account all the packages that are installed. This behaviour is the source of the following dependency conflicts.\n",
      "app-store-scraper 0.3.5 requires requests==2.23.0, but you have requests 2.32.2 which is incompatible.\n"
     ]
    },
    {
     "name": "stdout",
     "output_type": "stream",
     "text": [
      "Defaulting to user installation because normal site-packages is not writeable\n",
      "Requirement already satisfied: requests in c:\\users\\karina\\appdata\\local\\packages\\pythonsoftwarefoundation.python.3.12_qbz5n2kfra8p0\\localcache\\local-packages\\python312\\site-packages (2.23.0)\n",
      "Collecting requests\n",
      "  Downloading requests-2.32.2-py3-none-any.whl.metadata (4.6 kB)\n",
      "Requirement already satisfied: urllib3 in c:\\users\\karina\\appdata\\local\\packages\\pythonsoftwarefoundation.python.3.12_qbz5n2kfra8p0\\localcache\\local-packages\\python312\\site-packages (1.25.11)\n",
      "Collecting urllib3\n",
      "  Using cached urllib3-2.2.1-py3-none-any.whl.metadata (6.4 kB)\n",
      "Requirement already satisfied: six in c:\\users\\karina\\appdata\\local\\packages\\pythonsoftwarefoundation.python.3.12_qbz5n2kfra8p0\\localcache\\local-packages\\python312\\site-packages (1.16.0)\n",
      "Requirement already satisfied: charset-normalizer<4,>=2 in c:\\users\\karina\\appdata\\local\\packages\\pythonsoftwarefoundation.python.3.12_qbz5n2kfra8p0\\localcache\\local-packages\\python312\\site-packages (from requests) (3.3.2)\n",
      "Requirement already satisfied: idna<4,>=2.5 in c:\\users\\karina\\appdata\\local\\packages\\pythonsoftwarefoundation.python.3.12_qbz5n2kfra8p0\\localcache\\local-packages\\python312\\site-packages (from requests) (2.10)\n",
      "Requirement already satisfied: certifi>=2017.4.17 in c:\\users\\karina\\appdata\\local\\packages\\pythonsoftwarefoundation.python.3.12_qbz5n2kfra8p0\\localcache\\local-packages\\python312\\site-packages (from requests) (2024.2.2)\n",
      "Downloading requests-2.32.2-py3-none-any.whl (63 kB)\n",
      "   ---------------------------------------- 0.0/63.9 kB ? eta -:--:--\n",
      "   ---------------------------------------- 0.0/63.9 kB ? eta -:--:--\n",
      "   ------ --------------------------------- 10.2/63.9 kB ? eta -:--:--\n",
      "   ------------------- -------------------- 30.7/63.9 kB 325.1 kB/s eta 0:00:01\n",
      "   -------------------------------------- - 61.4/63.9 kB 409.6 kB/s eta 0:00:01\n",
      "   ---------------------------------------- 63.9/63.9 kB 380.6 kB/s eta 0:00:00\n",
      "Using cached urllib3-2.2.1-py3-none-any.whl (121 kB)\n",
      "Installing collected packages: urllib3, requests\n",
      "  Attempting uninstall: urllib3\n",
      "    Found existing installation: urllib3 1.25.11\n",
      "    Uninstalling urllib3-1.25.11:\n",
      "      Successfully uninstalled urllib3-1.25.11\n",
      "  Attempting uninstall: requests\n",
      "    Found existing installation: requests 2.23.0\n",
      "    Uninstalling requests-2.23.0:\n",
      "      Successfully uninstalled requests-2.23.0\n",
      "Successfully installed requests-2.32.2 urllib3-2.2.1\n"
     ]
    }
   ],
   "source": [
    "!pip install --upgrade requests urllib3 six"
   ]
  }
 ],
 "metadata": {
  "kernelspec": {
   "display_name": "Python 3",
   "language": "python",
   "name": "python3"
  },
  "language_info": {
   "codemirror_mode": {
    "name": "ipython",
    "version": 3
   },
   "file_extension": ".py",
   "mimetype": "text/x-python",
   "name": "python",
   "nbconvert_exporter": "python",
   "pygments_lexer": "ipython3",
   "version": "3.12.3"
  }
 },
 "nbformat": 4,
 "nbformat_minor": 2
}
